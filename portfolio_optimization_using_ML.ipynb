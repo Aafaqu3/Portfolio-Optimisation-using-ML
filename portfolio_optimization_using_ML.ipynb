{
 "cells": [
  {
   "cell_type": "markdown",
   "id": "97af0957",
   "metadata": {},
   "source": [
    "# Interactive Real-Time Portfolio Optimization with Machine Learning\n",
    "\n",
    "This interactive notebook lets you choose a custom list of tickers (stocks, ETFs, or crypto supported by `yfinance`) **at runtime** and then automatically:\n",
    "\n",
    "1. Downloads historical data for your selected tickers\n",
    "2. Builds features and trains a machine-learning model to predict next-day returns\n",
    "3. Optimizes portfolio weights to maximize the Sharpe ratio\n",
    "4. Back-tests the ML-optimized portfolio versus an equal-weight benchmark\n",
    "\n",
    "> **How to use**: Run the first three cells to load libraries and choose tickers. After you press the **Set Tickers** button, simply run the remaining cells top-to-bottom."
   ]
  },
  {
   "cell_type": "code",
   "execution_count": 1,
   "id": "1b707066",
   "metadata": {},
   "outputs": [
    {
     "name": "stdout",
     "output_type": "stream",
     "text": [
      "Libraries imported! Python 3.10.9 (tags/v3.10.9:1dd9be6, Dec  6 2022, 20:01:21) [MSC v.1934 64 bit (AMD64)]\n"
     ]
    }
   ],
   "source": [
    "import pandas as pd\n",
    "import numpy as np\n",
    "import yfinance as yf\n",
    "from sklearn.ensemble import RandomForestRegressor\n",
    "from sklearn.metrics import mean_squared_error\n",
    "from datetime import datetime, timedelta\n",
    "import scipy.optimize as sco\n",
    "import matplotlib.pyplot as plt\n",
    "import ipywidgets as widgets\n",
    "from IPython.display import display, clear_output\n",
    "import warnings, sys\n",
    "warnings.filterwarnings('ignore')\n",
    "\n",
    "print('Libraries imported! Python', sys.version)"
   ]
  },
  {
   "cell_type": "code",
   "execution_count": 2,
   "id": "ad783de6",
   "metadata": {},
   "outputs": [
    {
     "data": {
      "application/vnd.jupyter.widget-view+json": {
       "model_id": "7abc0b23caa84ebcb04c7ce510ff7a7b",
       "version_major": 2,
       "version_minor": 0
      },
      "text/plain": [
       "HBox(children=(Text(value='AAPL, MSFT, GOOGL, AMZN, TSLA', description='Tickers:', layout=Layout(width='70%'),…"
      ]
     },
     "metadata": {},
     "output_type": "display_data"
    },
    {
     "data": {
      "application/vnd.jupyter.widget-view+json": {
       "model_id": "c2dd33e1415447e2b0ade91c58208452",
       "version_major": 2,
       "version_minor": 0
      },
      "text/plain": [
       "Output()"
      ]
     },
     "metadata": {},
     "output_type": "display_data"
    }
   ],
   "source": [
    "# -----------------------------------------\n",
    "# INTERACTIVE TICKER SELECTION\n",
    "# -----------------------------------------\n",
    "\n",
    "# Default tickers\n",
    "default_tickers = 'AAPL, MSFT, GOOGL, AMZN, TSLA'\n",
    "\n",
    "text_box = widgets.Text(\n",
    "    value=default_tickers,\n",
    "    placeholder='e.g. AAPL,MSFT,GOOGL',\n",
    "    description='Tickers:',\n",
    "    disabled=False,\n",
    "    layout=widgets.Layout(width='70%')\n",
    ")\n",
    "set_button = widgets.Button(description='Set Tickers', button_style='success')\n",
    "output = widgets.Output()\n",
    "\n",
    "def on_button_clicked(b):\n",
    "    global TICKERS\n",
    "    tickers_raw = text_box.value\n",
    "    TICKERS = [t.strip().upper() for t in tickers_raw.split(',') if t.strip()]\n",
    "    with output:\n",
    "        clear_output()\n",
    "        print('Ticker list set to:', TICKERS)\n",
    "\n",
    "set_button.on_click(on_button_clicked)\n",
    "\n",
    "display(widgets.HBox([text_box, set_button]))\n",
    "display(output)"
   ]
  },
  {
   "cell_type": "code",
   "execution_count": 8,
   "id": "09f12ea8",
   "metadata": {},
   "outputs": [
    {
     "name": "stdout",
     "output_type": "stream",
     "text": [
      "Running analysis for: ['NVDA', 'MSFT', 'AMZN']\n",
      "Date range: 2022-08-16 to 2025-08-15\n"
     ]
    }
   ],
   "source": [
    "# -----------------------------------------\n",
    "# USER CONFIGURATION\n",
    "# -----------------------------------------\n",
    "try:\n",
    "    TICKERS\n",
    "except NameError:\n",
    "    raise RuntimeError('Run the ticker selection cell above and press Set Tickers before proceeding!')\n",
    "\n",
    "START_DATE = (datetime.today() - timedelta(days=365*3)).strftime('%Y-%m-%d')  # 3 years back\n",
    "END_DATE = datetime.today().strftime('%Y-%m-%d')\n",
    "RISK_FREE_RATE = 0.02  # 2% annual risk-free rate\n",
    "TRAIN_SIZE = 0.8\n",
    "\n",
    "print(f\"Running analysis for: {TICKERS}\")\n",
    "print(f\"Date range: {START_DATE} to {END_DATE}\")"
   ]
  },
  {
   "cell_type": "code",
   "execution_count": 9,
   "id": "9950afca",
   "metadata": {},
   "outputs": [
    {
     "name": "stdout",
     "output_type": "stream",
     "text": [
      "Fetched price data: (752, 3)\n"
     ]
    },
    {
     "data": {
      "text/html": [
       "<div>\n",
       "<style scoped>\n",
       "    .dataframe tbody tr th:only-of-type {\n",
       "        vertical-align: middle;\n",
       "    }\n",
       "\n",
       "    .dataframe tbody tr th {\n",
       "        vertical-align: top;\n",
       "    }\n",
       "\n",
       "    .dataframe thead th {\n",
       "        text-align: right;\n",
       "    }\n",
       "</style>\n",
       "<table border=\"1\" class=\"dataframe\">\n",
       "  <thead>\n",
       "    <tr style=\"text-align: right;\">\n",
       "      <th>Ticker</th>\n",
       "      <th>AMZN</th>\n",
       "      <th>MSFT</th>\n",
       "      <th>NVDA</th>\n",
       "    </tr>\n",
       "    <tr>\n",
       "      <th>Date</th>\n",
       "      <th></th>\n",
       "      <th></th>\n",
       "      <th></th>\n",
       "    </tr>\n",
       "  </thead>\n",
       "  <tbody>\n",
       "    <tr>\n",
       "      <th>2025-08-08</th>\n",
       "      <td>222.690002</td>\n",
       "      <td>522.039978</td>\n",
       "      <td>182.699997</td>\n",
       "    </tr>\n",
       "    <tr>\n",
       "      <th>2025-08-11</th>\n",
       "      <td>221.300003</td>\n",
       "      <td>521.770020</td>\n",
       "      <td>182.059998</td>\n",
       "    </tr>\n",
       "    <tr>\n",
       "      <th>2025-08-12</th>\n",
       "      <td>221.470001</td>\n",
       "      <td>529.239990</td>\n",
       "      <td>183.160004</td>\n",
       "    </tr>\n",
       "    <tr>\n",
       "      <th>2025-08-13</th>\n",
       "      <td>224.559998</td>\n",
       "      <td>520.580017</td>\n",
       "      <td>181.589996</td>\n",
       "    </tr>\n",
       "    <tr>\n",
       "      <th>2025-08-14</th>\n",
       "      <td>230.979996</td>\n",
       "      <td>522.479980</td>\n",
       "      <td>182.020004</td>\n",
       "    </tr>\n",
       "  </tbody>\n",
       "</table>\n",
       "</div>"
      ],
      "text/plain": [
       "Ticker            AMZN        MSFT        NVDA\n",
       "Date                                          \n",
       "2025-08-08  222.690002  522.039978  182.699997\n",
       "2025-08-11  221.300003  521.770020  182.059998\n",
       "2025-08-12  221.470001  529.239990  183.160004\n",
       "2025-08-13  224.559998  520.580017  181.589996\n",
       "2025-08-14  230.979996  522.479980  182.020004"
      ]
     },
     "execution_count": 9,
     "metadata": {},
     "output_type": "execute_result"
    }
   ],
   "source": [
    "def fetch_price_data(tickers, start, end):\n",
    "    data = yf.download(tickers, start=start, end=end, progress=False)\n",
    "    if len(tickers) == 1:\n",
    "        if 'Adj Close' in data.columns:\n",
    "            return data[['Adj Close']].rename(columns={'Adj Close': tickers[0]})\n",
    "        return data[['Close']].rename(columns={'Close': tickers[0]})\n",
    "    if isinstance(data.columns, pd.MultiIndex):\n",
    "        if 'Adj Close' in data.columns.get_level_values(0):\n",
    "            return data['Adj Close']\n",
    "        return data['Close']\n",
    "    return data\n",
    "\n",
    "price_df = fetch_price_data(TICKERS, START_DATE, END_DATE).ffill().dropna()\n",
    "print('Fetched price data:', price_df.shape)\n",
    "price_df.tail()"
   ]
  },
  {
   "cell_type": "code",
   "execution_count": 10,
   "id": "4141141c",
   "metadata": {},
   "outputs": [
    {
     "name": "stdout",
     "output_type": "stream",
     "text": [
      "Model trained!\n",
      "Predicted next-day returns (%):\n",
      "NVDA    0.969\n",
      "MSFT    0.443\n",
      "AMZN    0.594\n",
      "dtype: float64\n"
     ]
    }
   ],
   "source": [
    "# Calculate returns and features\n",
    "returns = price_df.pct_change().dropna()\n",
    "feature_df = pd.DataFrame(index=returns.index)\n",
    "\n",
    "lag_days = [1,2,3,5]\n",
    "for lag in lag_days:\n",
    "    for t in TICKERS:\n",
    "        feature_df[f'{t}_lag{lag}'] = returns[t].shift(lag)\n",
    "\n",
    "window_sizes = [5,10,21]\n",
    "for win in window_sizes:\n",
    "    for t in TICKERS:\n",
    "        feature_df[f'{t}_ma{win}'] = returns[t].rolling(win).mean()\n",
    "        feature_df[f'{t}_vol{win}'] = returns[t].rolling(win).std()\n",
    "\n",
    "feature_df = feature_df.dropna()\n",
    "target_df = returns[TICKERS].shift(-1).loc[feature_df.index]\n",
    "feature_df = feature_df.loc[target_df.index]\n",
    "\n",
    "split = int(len(feature_df)*TRAIN_SIZE)\n",
    "X_train, X_test = feature_df.iloc[:split], feature_df.iloc[split:]\n",
    "y_train, y_test = target_df.iloc[:split], target_df.iloc[split:]\n",
    "\n",
    "model = RandomForestRegressor(n_estimators=200, random_state=42, n_jobs=-1)\n",
    "model.fit(X_train, y_train)\n",
    "print('Model trained!')\n",
    "\n",
    "# Predict expected returns\n",
    "predicted = model.predict(feature_df.iloc[-1:])[0]\n",
    "exp_returns = pd.Series(predicted, index=TICKERS)\n",
    "print('Predicted next-day returns (%):')\n",
    "print((exp_returns*100).round(3))"
   ]
  },
  {
   "cell_type": "code",
   "execution_count": 11,
   "id": "6dff24a4",
   "metadata": {},
   "outputs": [
    {
     "name": "stdout",
     "output_type": "stream",
     "text": [
      "Optimized Weights:\n",
      "NVDA    0.3255 (32.55%)\n",
      "MSFT    0.2949 (29.49%)\n",
      "AMZN    0.3796 (37.96%)\n",
      "dtype: object\n"
     ]
    }
   ],
   "source": [
    "# Portfolio optimization\n",
    "annual_returns = exp_returns * 252\n",
    "cov = returns[TICKERS].cov() * 252\n",
    "\n",
    "num_assets = len(TICKERS)\n",
    "init_w = np.repeat(1/num_assets, num_assets)\n",
    "\n",
    "def neg_sharpe(w, mu, cov, rf):\n",
    "    ret = np.dot(w, mu)\n",
    "    vol = np.sqrt(np.dot(w.T, np.dot(cov, w)))\n",
    "    return -(ret - rf) / vol\n",
    "\n",
    "cons = ({'type':'eq', 'fun': lambda w: np.sum(w)-1})\n",
    "bounds = tuple((0,1) for _ in range(num_assets))\n",
    "\n",
    "opt = sco.minimize(neg_sharpe, init_w, args=(annual_returns, cov, RISK_FREE_RATE),\n",
    "                   method='SLSQP', bounds=bounds, constraints=cons)\n",
    "weights = pd.Series(opt.x if opt.success else init_w, index=TICKERS)\n",
    "print('Optimized Weights:')\n",
    "print(weights.apply(lambda x: f\"{x:.4f} ({x*100:.2f}%)\"))"
   ]
  },
  {
   "cell_type": "code",
   "execution_count": 12,
   "id": "2d6e82d1",
   "metadata": {},
   "outputs": [
    {
     "data": {
      "image/png": "[encoded data removed]",
      "text/plain": [
       "<Figure size 1000x500 with 1 Axes>"
      ]
     },
     "metadata": {},
     "output_type": "display_data"
    }
   ],
   "source": [
    "# Backtest vs equal weight on last year\n",
    "test_returns = returns[TICKERS].iloc[-252:]\n",
    "num_assets = len(TICKERS)\n",
    "\n",
    "cum_equal = (1 + (test_returns * (1/num_assets)).sum(axis=1)).cumprod()\n",
    "cum_ml = (1 + (test_returns * weights).sum(axis=1)).cumprod()\n",
    "\n",
    "plt.figure(figsize=(10,5))\n",
    "plt.plot(cum_equal, label='Equal Weight')\n",
    "plt.plot(cum_ml, label='ML Optimized')\n",
    "plt.title('Backtest (1Y)')\n",
    "plt.legend(); plt.grid(True); plt.show()"
   ]
  },
  {
   "cell_type": "markdown",
   "id": "59dd89eb",
   "metadata": {
    "jp-MarkdownHeadingCollapsed": true
   },
   "source": [
    "Feel free to re-run the ticker-selection cell to try different portfolios.\n",
    "• **Adjust tickers** to any symbols available on Yahoo Finance (including crypto tickers like `BTC-USD`).\n",
    "• **Experiment** with model parameters, features, or optimization constraints in subsequent cells."
   ]
  }
 ],
 "metadata": {
  "kernelspec": {
   "display_name": "Python 3 (ipykernel)",
   "language": "python",
   "name": "python3"
  },
  "language_info": {
   "codemirror_mode": {
    "name": "ipython",
    "version": 3
   },
   "file_extension": ".py",
   "mimetype": "text/x-python",
   "name": "python",
   "nbconvert_exporter": "python",
   "pygments_lexer": "ipython3",
   "version": "3.10.9"
  }
 },
 "nbformat": 4,
 "nbformat_minor": 5
}
